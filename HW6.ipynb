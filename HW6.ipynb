# -*- coding: utf-8 -*-
"""
Created on Sat Oct 21 12:22:36 2023

@author: ASUS
"""

print('HW6')