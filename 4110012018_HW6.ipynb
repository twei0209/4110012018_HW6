{
  "nbformat": 4,
  "nbformat_minor": 0,
  "metadata": {
    "colab": {
      "provenance": []
    },
    "kernelspec": {
      "name": "python3",
      "display_name": "Python 3"
    },
    "language_info": {
      "name": "python"
    }
  },
  "cells": [
    {
      "cell_type": "code",
      "source": [
        "print('HW6')"
      ],
      "metadata": {
        "colab": {
          "base_uri": "https://localhost:8080/"
        },
        "id": "i2oo8D2fKVX6",
        "outputId": "4dd0b1a6-c216-4c99-e1dc-43a5a1c64d4c"
      },
      "execution_count": null,
      "outputs": [
        {
          "output_type": "stream",
          "name": "stdout",
          "text": [
            "HW6\n"
          ]
        }
      ]
    },
    {
      "cell_type": "code",
      "source": [
        "print('New Content')"
      ],
      "metadata": {
        "id": "FwK6_uNELe0H",
        "outputId": "5d2d3b59-df05-4ba6-cfdd-73f0566f28af",
        "colab": {
          "base_uri": "https://localhost:8080/"
        }
      },
      "execution_count": 1,
      "outputs": [
        {
          "output_type": "stream",
          "name": "stdout",
          "text": [
            "New Content\n"
          ]
        }
      ]
    }
  ]
}